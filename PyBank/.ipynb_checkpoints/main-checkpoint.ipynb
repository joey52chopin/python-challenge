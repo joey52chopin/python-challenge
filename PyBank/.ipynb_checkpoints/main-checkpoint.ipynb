{
 "cells": [
  {
   "cell_type": "code",
   "execution_count": 1,
   "id": "4e054618",
   "metadata": {},
   "outputs": [],
   "source": [
    "import csv\n",
    "import os\n",
    "import pandas as pd"
   ]
  },
  {
   "cell_type": "code",
   "execution_count": 2,
   "id": "5995c7ba",
   "metadata": {},
   "outputs": [],
   "source": [
    "# Specify the full path to the CSV file\n",
    "csv_path = r\"C:\\Users\\joey5\\Desktop\\Module 3\\Starter_Code\\PyBank\\Resources\\budget_data.csv\"\n"
   ]
  },
  {
   "cell_type": "code",
   "execution_count": 3,
   "id": "80741d97",
   "metadata": {},
   "outputs": [
    {
     "data": {
      "text/html": [
       "<div>\n",
       "<style scoped>\n",
       "    .dataframe tbody tr th:only-of-type {\n",
       "        vertical-align: middle;\n",
       "    }\n",
       "\n",
       "    .dataframe tbody tr th {\n",
       "        vertical-align: top;\n",
       "    }\n",
       "\n",
       "    .dataframe thead th {\n",
       "        text-align: right;\n",
       "    }\n",
       "</style>\n",
       "<table border=\"1\" class=\"dataframe\">\n",
       "  <thead>\n",
       "    <tr style=\"text-align: right;\">\n",
       "      <th></th>\n",
       "      <th>Date</th>\n",
       "      <th>Profit/Losses</th>\n",
       "    </tr>\n",
       "  </thead>\n",
       "  <tbody>\n",
       "    <tr>\n",
       "      <th>0</th>\n",
       "      <td>Jan-10</td>\n",
       "      <td>1088983</td>\n",
       "    </tr>\n",
       "    <tr>\n",
       "      <th>1</th>\n",
       "      <td>Feb-10</td>\n",
       "      <td>-354534</td>\n",
       "    </tr>\n",
       "    <tr>\n",
       "      <th>2</th>\n",
       "      <td>Mar-10</td>\n",
       "      <td>276622</td>\n",
       "    </tr>\n",
       "    <tr>\n",
       "      <th>3</th>\n",
       "      <td>Apr-10</td>\n",
       "      <td>-728133</td>\n",
       "    </tr>\n",
       "    <tr>\n",
       "      <th>4</th>\n",
       "      <td>May-10</td>\n",
       "      <td>852993</td>\n",
       "    </tr>\n",
       "  </tbody>\n",
       "</table>\n",
       "</div>"
      ],
      "text/plain": [
       "     Date  Profit/Losses\n",
       "0  Jan-10        1088983\n",
       "1  Feb-10        -354534\n",
       "2  Mar-10         276622\n",
       "3  Apr-10        -728133\n",
       "4  May-10         852993"
      ]
     },
     "execution_count": 3,
     "metadata": {},
     "output_type": "execute_result"
    }
   ],
   "source": [
    "# Read the CSV file into a DataFrame\n",
    "df = pd.read_csv(csv_path)\n",
    "df.head()"
   ]
  },
  {
   "cell_type": "code",
   "execution_count": 5,
   "id": "159f3965",
   "metadata": {},
   "outputs": [
    {
     "name": "stdout",
     "output_type": "stream",
     "text": [
      "Financial Analysis\n",
      "-----------------------------------------\n",
      "Total Months: 86\n",
      "Total : $22564198\n",
      "Average Change: $-8311.11\n",
      "Greatest Increase in Profits: Aug-16 ($1862002.0)\n",
      "Greatest Decrease in Profits: Feb-14 ($-1825558.0)\n"
     ]
    }
   ],
   "source": [
    "# Calculate the total number of months\n",
    "total_months = df[\"Date\"].nunique()\n",
    "\n",
    "# Calculate the net total amount of \"Profit/Losses\"\n",
    "total = df[\"Profit/Losses\"].sum()\n",
    "\n",
    "\n",
    "# Calculate the changes in \"Profit/Losses\" and store them in a new column\n",
    "df[\"Profit/Loss Change\"] = df[\"Profit/Losses\"].diff()\n",
    "\n",
    "# Calculate the average change\n",
    "average_change = df[\"Profit/Loss Change\"].mean()\n",
    "\n",
    "# Calculate the changes in \"Profit/Losses\" and store them in a new column\n",
    "df[\"Profit/Loss Change\"] = df[\"Profit/Losses\"].diff()\n",
    "\n",
    "# Find the row with the greatest increase in profits\n",
    "greatest_increase_row = df[df[\"Profit/Loss Change\"] == df[\"Profit/Loss Change\"].max()]\n",
    "# Extract the date and amount of the greatest increase\n",
    "greatest_increase_date = greatest_increase_row.iloc[0][\"Date\"]\n",
    "greatest_increase_amount = greatest_increase_row.iloc[0][\"Profit/Loss Change\"]\n",
    "\n",
    "# Find the row with the greatest increase in profits\n",
    "greatest_decrease_row = df[df[\"Profit/Loss Change\"] == df[\"Profit/Loss Change\"].min()]\n",
    "# Extract the date and amount of the greatest increase\n",
    "greatest_decrease_date = greatest_decrease_row.iloc[0][\"Date\"]\n",
    "greatest_decrease_amount = greatest_decrease_row.iloc[0][\"Profit/Loss Change\"]\n",
    "\n",
    "\n",
    "print(f\"Financial Analysis\")\n",
    "print(\"-----------------------------------------\")\n",
    "# Print the total number of months\n",
    "print(f\"Total Months: {total_months}\")\n",
    "# Print the net total amount\n",
    "print(f\"Total : ${total}\")\n",
    "# Print the changes and the average change\n",
    "print(f\"Average Change: ${average_change:.2f}\")\n",
    "# Print the greatest increase in profits\n",
    "print(f\"Greatest Increase in Profits: {greatest_increase_date} (${greatest_increase_amount})\")\n",
    "# Print the greatest increase in profits\n",
    "print(f\"Greatest Decrease in Profits: {greatest_decrease_date} (${greatest_decrease_amount})\")"
   ]
  },
  {
   "cell_type": "code",
   "execution_count": null,
   "id": "0759b080",
   "metadata": {},
   "outputs": [],
   "source": []
  },
  {
   "cell_type": "code",
   "execution_count": null,
   "id": "6b424924",
   "metadata": {},
   "outputs": [],
   "source": []
  }
 ],
 "metadata": {
  "kernelspec": {
   "display_name": "Python 3 (ipykernel)",
   "language": "python",
   "name": "python3"
  },
  "language_info": {
   "codemirror_mode": {
    "name": "ipython",
    "version": 3
   },
   "file_extension": ".py",
   "mimetype": "text/x-python",
   "name": "python",
   "nbconvert_exporter": "python",
   "pygments_lexer": "ipython3",
   "version": "3.10.10"
  }
 },
 "nbformat": 4,
 "nbformat_minor": 5
}
